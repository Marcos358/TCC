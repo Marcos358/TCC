{
 "cells": [
  {
   "cell_type": "code",
   "execution_count": 1,
   "metadata": {},
   "outputs": [
    {
     "name": "stderr",
     "output_type": "stream",
     "text": [
      "/home/marcos/anaconda3/lib/python3.8/site-packages/geopandas/_compat.py:111: UserWarning: The Shapely GEOS version (3.9.1-CAPI-1.14.2) is incompatible with the GEOS version PyGEOS was compiled with (3.10.1-CAPI-1.16.0). Conversions between both will be slow.\n",
      "  warnings.warn(\n"
     ]
    }
   ],
   "source": [
    "from ftplib import FTP\n",
    "import os\n",
    "import pandas as pd\n",
    "import numpy as np\n",
    "from pysus.online_data.SIH import download\n",
    "import warnings\n",
    "import time"
   ]
  },
  {
   "cell_type": "code",
   "execution_count": 2,
   "metadata": {},
   "outputs": [
    {
     "name": "stdout",
     "output_type": "stream",
     "text": [
      "Populating the interactive namespace from numpy and matplotlib\n"
     ]
    }
   ],
   "source": [
    "%pylab inline"
   ]
  },
  {
   "cell_type": "code",
   "execution_count": 3,
   "metadata": {},
   "outputs": [],
   "source": [
    "# Carregando os nomes dos munípios\n",
    "\n",
    "mun = pd.read_excel('Municipios.xls')[['Nome_Município','Código Município Completo']]\n",
    "mun.iloc[:,1] = [str(mun.iloc[x,1])[:-1] for x in range(np.shape(mun)[0])]\n",
    "\n",
    "mun.rename(columns = {'Nome_Município':'municipio', 'Código Município Completo':'UF_ZI'}, \n",
    "           inplace = True)\n",
    "mun = mun[['UF_ZI','municipio']]\n",
    "\n",
    "# carregando nomes das doenças\n",
    "\n",
    "cids = pd.read_csv('cid10tab.csv')\n",
    "cids.rename(columns = {'CID':'DIAG_PRINC','Nome':'doença'}, inplace = True)"
   ]
  },
  {
   "cell_type": "code",
   "execution_count": 10,
   "metadata": {},
   "outputs": [],
   "source": [
    "## CÓDIGO DEMORADO E PESADO. RODAR LOCALMENTE APENAS SE O COMPUTADOR TIVER SUPORTE PRA ISSO\n",
    "\n",
    "\n",
    "# warnings.filterwarnings('ignore', message='.*initial implementation of Parquet.*')\n",
    "# t0 = time.time()\n",
    "\n",
    "# anos = [y for y in range(2021,2018,-1)]\n",
    "# meses = [m for m in range(12,0,-1)]\n",
    "# cols = ['UF_ZI','ANO_CMPT','DIAG_PRINC']\n",
    "# mg = download('mg', 2022, 1)[cols]\n",
    "# mg['UF'] = 'mg'\n",
    "# mg['quant'] = 1\n",
    "# mg = mg.groupby(['UF','UF_ZI','ANO_CMPT','DIAG_PRINC'], as_index = False).count()\n",
    "# es = download('es', 2022, 1)[cols]\n",
    "# es['UF'] = 'es'\n",
    "# es['quant'] = 1\n",
    "# es = es.groupby(['UF','UF_ZI','ANO_CMPT','DIAG_PRINC'], as_index = False).count()\n",
    "# data = mg.append(es)\n",
    "\n",
    "# for i in anos:\n",
    "#     for j in meses:\n",
    "#         print(i,j, '\\n Tempo: ', time.time()- t0)\n",
    "#         try:\n",
    "#             mg = download('mg',i,j)[cols]\n",
    "#             mg['UF'] = 'mg'\n",
    "#             mg['quant'] = 1\n",
    "#             mg = mg.groupby(['UF','UF_ZI','ANO_CMPT','DIAG_PRINC'], as_index = False).count()\n",
    "#             es = download('es',i,j)[cols]\n",
    "#             es['UF'] = 'es'\n",
    "#             es['quant'] = 1\n",
    "#             es = es.groupby(['UF','UF_ZI','ANO_CMPT','DIAG_PRINC'], as_index = False ).count()\n",
    "#             data = data.append([mg,es])\n",
    "#         except:\n",
    "#             print('Não foi possível coletar do mês de {} de {}'.format(j,i))\n",
    "    \n",
    "# del(mg,es)\n"
   ]
  },
  {
   "cell_type": "code",
   "execution_count": 11,
   "metadata": {},
   "outputs": [],
   "source": [
    "# carreganco CAPÍTULOS\n",
    "\n",
    "x = list(set(data['DIAG_PRINC']))\n",
    "x.sort()\n",
    "caps = pd.read_excel('CID10-codigos.xlsx')[['Capítulo','Códigos']]\n",
    "caps['last'] = ''\n",
    "for i in range(np.shape(caps)[0]):\n",
    "    caps['last'][i] = caps['Códigos'][i][4:]\n",
    "caps\n",
    "cur = 0\n",
    "for i in range(len(x)):\n",
    "    x[i] = [x[i], caps['Capítulo'][cur]]\n",
    "    for j in range(np.shape(caps)[0]):\n",
    "        if x[i][0] == caps['last'][j]:\n",
    "            cur = j+1\n",
    "caps = pd.DataFrame(data = {'DIAG_PRINC':[i[0] for i in x], 'capitulo':[i[1] for i in x]})\n",
    "del(x)"
   ]
  },
  {
   "cell_type": "code",
   "execution_count": 12,
   "metadata": {},
   "outputs": [],
   "source": [
    "#  Uma vez carregados os dados, salvo para não precisar baixá-los novamente\n",
    "\n",
    "cols = ['UF','municipio','UF_ZI','ANO_CMPT','capitulo','DIAG_PRINC','doença','quant']\n",
    "data = pd.merge(data, mun,  how = 'inner', on = 'UF_ZI')\n",
    "data = pd.merge(data, caps, how = 'inner', on = 'DIAG_PRINC')\n",
    "data = pd.merge(data, cids, how = 'inner', on = 'DIAG_PRINC')[cols]\n",
    "data.to_pickle('MG_ES.pkl')"
   ]
  },
  {
   "cell_type": "code",
   "execution_count": 14,
   "metadata": {},
   "outputs": [
    {
     "data": {
      "text/html": [
       "<div>\n",
       "<style scoped>\n",
       "    .dataframe tbody tr th:only-of-type {\n",
       "        vertical-align: middle;\n",
       "    }\n",
       "\n",
       "    .dataframe tbody tr th {\n",
       "        vertical-align: top;\n",
       "    }\n",
       "\n",
       "    .dataframe thead th {\n",
       "        text-align: right;\n",
       "    }\n",
       "</style>\n",
       "<table border=\"1\" class=\"dataframe\">\n",
       "  <thead>\n",
       "    <tr style=\"text-align: right;\">\n",
       "      <th></th>\n",
       "      <th>UF</th>\n",
       "      <th>municipio</th>\n",
       "      <th>UF_ZI</th>\n",
       "      <th>ANO_CMPT</th>\n",
       "      <th>capitulo</th>\n",
       "      <th>DIAG_PRINC</th>\n",
       "      <th>doença</th>\n",
       "      <th>quant</th>\n",
       "    </tr>\n",
       "  </thead>\n",
       "  <tbody>\n",
       "    <tr>\n",
       "      <th>0</th>\n",
       "      <td>mg</td>\n",
       "      <td>Águas Formosas</td>\n",
       "      <td>310090</td>\n",
       "      <td>2022</td>\n",
       "      <td>I</td>\n",
       "      <td>A09</td>\n",
       "      <td>Diarréia e gastroenterite de origem infecciosa...</td>\n",
       "      <td>32</td>\n",
       "    </tr>\n",
       "    <tr>\n",
       "      <th>1</th>\n",
       "      <td>mg</td>\n",
       "      <td>Águas Formosas</td>\n",
       "      <td>310090</td>\n",
       "      <td>2022</td>\n",
       "      <td>I</td>\n",
       "      <td>A09</td>\n",
       "      <td>Diarréia e gastroenterite de origem infecciosa...</td>\n",
       "      <td>32</td>\n",
       "    </tr>\n",
       "    <tr>\n",
       "      <th>2</th>\n",
       "      <td>mg</td>\n",
       "      <td>Águas Formosas</td>\n",
       "      <td>310090</td>\n",
       "      <td>2021</td>\n",
       "      <td>I</td>\n",
       "      <td>A09</td>\n",
       "      <td>Diarréia e gastroenterite de origem infecciosa...</td>\n",
       "      <td>45</td>\n",
       "    </tr>\n",
       "    <tr>\n",
       "      <th>3</th>\n",
       "      <td>mg</td>\n",
       "      <td>Águas Formosas</td>\n",
       "      <td>310090</td>\n",
       "      <td>2021</td>\n",
       "      <td>I</td>\n",
       "      <td>A09</td>\n",
       "      <td>Diarréia e gastroenterite de origem infecciosa...</td>\n",
       "      <td>45</td>\n",
       "    </tr>\n",
       "    <tr>\n",
       "      <th>4</th>\n",
       "      <td>mg</td>\n",
       "      <td>Águas Formosas</td>\n",
       "      <td>310090</td>\n",
       "      <td>2021</td>\n",
       "      <td>I</td>\n",
       "      <td>A09</td>\n",
       "      <td>Diarréia e gastroenterite de origem infecciosa...</td>\n",
       "      <td>82</td>\n",
       "    </tr>\n",
       "  </tbody>\n",
       "</table>\n",
       "</div>"
      ],
      "text/plain": [
       "   UF       municipio   UF_ZI ANO_CMPT capitulo DIAG_PRINC  \\\n",
       "0  mg  Águas Formosas  310090     2022        I        A09   \n",
       "1  mg  Águas Formosas  310090     2022        I        A09   \n",
       "2  mg  Águas Formosas  310090     2021        I        A09   \n",
       "3  mg  Águas Formosas  310090     2021        I        A09   \n",
       "4  mg  Águas Formosas  310090     2021        I        A09   \n",
       "\n",
       "                                              doença  quant  \n",
       "0  Diarréia e gastroenterite de origem infecciosa...     32  \n",
       "1  Diarréia e gastroenterite de origem infecciosa...     32  \n",
       "2  Diarréia e gastroenterite de origem infecciosa...     45  \n",
       "3  Diarréia e gastroenterite de origem infecciosa...     45  \n",
       "4  Diarréia e gastroenterite de origem infecciosa...     82  "
      ]
     },
     "execution_count": 14,
     "metadata": {},
     "output_type": "execute_result"
    }
   ],
   "source": [
    "data.head()"
   ]
  },
  {
   "cell_type": "code",
   "execution_count": null,
   "metadata": {},
   "outputs": [],
   "source": []
  },
  {
   "cell_type": "code",
   "execution_count": null,
   "metadata": {},
   "outputs": [],
   "source": []
  },
  {
   "cell_type": "code",
   "execution_count": null,
   "metadata": {},
   "outputs": [],
   "source": []
  },
  {
   "cell_type": "code",
   "execution_count": null,
   "metadata": {},
   "outputs": [],
   "source": []
  },
  {
   "cell_type": "code",
   "execution_count": null,
   "metadata": {},
   "outputs": [],
   "source": []
  }
 ],
 "metadata": {
  "kernelspec": {
   "display_name": "Python 3",
   "language": "python",
   "name": "python3"
  },
  "language_info": {
   "codemirror_mode": {
    "name": "ipython",
    "version": 3
   },
   "file_extension": ".py",
   "mimetype": "text/x-python",
   "name": "python",
   "nbconvert_exporter": "python",
   "pygments_lexer": "ipython3",
   "version": "3.8.5"
  }
 },
 "nbformat": 4,
 "nbformat_minor": 4
}
